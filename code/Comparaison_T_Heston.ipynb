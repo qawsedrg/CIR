{
 "cells": [
  {
   "cell_type": "code",
   "execution_count": 6,
   "metadata": {},
   "outputs": [],
   "source": [
    "import matplotlib.pyplot as plt\n",
    "from matplotlib.pyplot import MultipleLocator\n",
    "import scipy.stats as stats\n",
    "from IPython.display import display\n",
    "import pandas as pd\n",
    "from utils import *\n",
    "import gc"
   ]
  },
  {
   "cell_type": "code",
   "execution_count": 7,
   "metadata": {},
   "outputs": [],
   "source": [
    "@timer_func\n",
    "@multi_thread_wrapper\n",
    "@multi_input_wrapper\n",
    "@compute_Heston\n",
    "def Algo_1st_Heston(rou,r,sigma,a,k,n,x0,N):\n",
    "    return Heston_1st(rou,r,sigma,a,k,n,x0,N)\n",
    "\n",
    "@timer_func\n",
    "@multi_thread_wrapper\n",
    "@multi_input_wrapper\n",
    "@compute_Heston\n",
    "def Algo_2nd_Heston(rou,r,sigma,a,k,n,x0,N):\n",
    "    return Heston_2nd(rou,r,sigma,a,k,n,x0,N)\n",
    "\n",
    "@timer_func\n",
    "@multi_thread_wrapper\n",
    "@multi_input_wrapper\n",
    "@compute_Heston\n",
    "def Algo_3rd_Heston(rou,r,sigma,a,k,n,x0,N):\n",
    "    return Heston_3rd(rou,r,sigma,a,k,n,x0,N)"
   ]
  },
  {
   "cell_type": "code",
   "execution_count": 8,
   "metadata": {},
   "outputs": [],
   "source": [
    "T = 1\n",
    "K = 80\n",
    "r = 0.02\n",
    "sigma = 0.4\n",
    "rho =  -0.5\n",
    "a = 0.02\n",
    "k = 0.5\n",
    "x1 = np.log(100)\n",
    "x2 = 0.04"
   ]
  },
  {
   "cell_type": "code",
   "execution_count": 9,
   "metadata": {},
   "outputs": [],
   "source": [
    "T = 1\n",
    "K = 80\n",
    "r = 0.02\n",
    "sigma = 1\n",
    "rho =  -0.8\n",
    "a = 0.02\n",
    "k = 0.5\n",
    "x1 = np.log(100)\n",
    "x2 = 0.04"
   ]
  },
  {
   "cell_type": "markdown",
   "metadata": {},
   "source": [
    "1st Order"
   ]
  },
  {
   "cell_type": "code",
   "execution_count": 10,
   "metadata": {},
   "outputs": [
    {
     "name": "stdout",
     "output_type": "stream",
     "text": [
      "Function 'Algo_1st_Heston' executed in 254.1629s\n",
      "The exact value of expectation is : 1.67372838717084\n",
      "The absolute error tolerance is 0.1, the relative risk tolerance is 0.05974685066376475\n",
      "The mean value of simulations is 2.0843030661006376\n",
      "The 0.95% confidence interval of mean2 is [2.0678252474408136,2.1007808847604617]\n",
      "The maximal relative error of mean with 0.95% confidence is 0.2551504179907489(-0.24530544028341783+-0.00984497770733101)\n",
      "maximal relative error of mean <= relative tolerance error? False\n"
     ]
    }
   ],
   "source": [
    "N = 1000000\n",
    "n = 1000\n",
    "confidence = 0.95\n",
    "eps = 1e-1\n",
    "\n",
    "alpha=1-confidence\n",
    "Z=stats.norm.ppf(1-alpha/2)\n",
    "\n",
    "exact_value = Heston_Put(T,K,r,a,k,rho,sigma,x1,x2)\n",
    "relative_tolerance = eps/exact_value\n",
    "\n",
    "x0=np.array((np.array([x1]*N),\n",
    "            np.array([x2]*N),\n",
    "            [0]*N,\n",
    "            [0]*N))\n",
    "\n",
    "param_dict={'rou':rho,'r':r,'sigma':sigma,'a':a,'k':k,'n':n,'x0':x0,'N':N}\n",
    "result=esperance_Heston(1,param_dict[\"r\"],K=K)(Algo_1st_Heston)([copy.deepcopy(param_dict)])\n",
    "mean= np.mean(result)\n",
    "var = np.var(result)\n",
    "del result\n",
    "\n",
    "interval_l = mean-np.sqrt(var/N)*Z\n",
    "interval_r = mean+np.sqrt(var/N)*Z\n",
    "\n",
    "appro_error = 1-mean/exact_value\n",
    "simul_error = np.sqrt(var/N)*Z/exact_value\n",
    "relative_error_l = abs(1-interval_l/exact_value)\n",
    "relative_error_r = abs(1-interval_r/exact_value)\n",
    "max_relative_error = max(relative_error_l,relative_error_r)\n",
    "print(\"The exact value of expectation is : {}\".format(exact_value))\n",
    "print(\"The absolute error tolerance is {}, the relative risk tolerance is {}\".format(eps,relative_tolerance))\n",
    "print(\"The mean value of simulations is {}\".format(mean))\n",
    "print(\"The {}% confidence interval of mean2 is [{},{}]\".format(confidence,interval_l,interval_r))\n",
    "print(\"The maximal relative error of mean with {}% confidence is {}({}+-{})\".format(confidence,max_relative_error,appro_error,simul_error))\n",
    "print(\"maximal relative error of mean <= relative tolerance error? {}\".format(max_relative_error<=relative_tolerance))"
   ]
  },
  {
   "cell_type": "code",
   "execution_count": null,
   "metadata": {
    "pycharm": {
     "is_executing": true
    }
   },
   "outputs": [],
   "source": [
    "N = 10000000\n",
    "n = 1000\n",
    "confidence = 0.95\n",
    "eps = 1e-2\n",
    "\n",
    "alpha=1-confidence\n",
    "Z=stats.norm.ppf(1-alpha/2)\n",
    "\n",
    "exact_value = Heston_Put(T,K,r,a,k,rho,sigma,x1,x2)\n",
    "relative_tolerance = eps/exact_value\n",
    "\n",
    "x0=np.array((np.array([x1]*N),\n",
    "            np.array([x2]*N),\n",
    "            [0]*N,\n",
    "            [0]*N))\n",
    "\n",
    "param_dict={'rou':rho,'r':r,'sigma':sigma,'a':a,'k':k,'n':n,'x0':x0,'N':N}\n",
    "result=esperance_Heston(1,param_dict[\"r\"],K=K)(Algo_1st_Heston)([copy.deepcopy(param_dict)])\n",
    "mean= np.mean(result)\n",
    "var = np.var(result)\n",
    "del result\n",
    "\n",
    "interval_l = mean-np.sqrt(var/N)*Z\n",
    "interval_r = mean+np.sqrt(var/N)*Z\n",
    "\n",
    "appro_error = 1-mean/exact_value\n",
    "simul_error = np.sqrt(var/N)*Z/exact_value\n",
    "relative_error_l = abs(1-interval_l/exact_value)\n",
    "relative_error_r = abs(1-interval_r/exact_value)\n",
    "max_relative_error = max(relative_error_l,relative_error_r)\n",
    "print(\"The exact value of expectation is : {}\".format(exact_value))\n",
    "print(\"The absolute error tolerance is {}, the relative risk tolerance is {}\".format(eps,relative_tolerance))\n",
    "print(\"The mean value of simulations is {}\".format(mean))\n",
    "print(\"The {}% confidence interval of mean2 is [{},{}]\".format(confidence,interval_l,interval_r))\n",
    "print(\"The maximal relative error of mean with {}% confidence is {}({}+-{})\".format(confidence,max_relative_error,appro_error,simul_error))\n",
    "print(\"maximal relative error of mean <= relative tolerance error? {}\".format(max_relative_error<=relative_tolerance))"
   ]
  },
  {
   "cell_type": "markdown",
   "metadata": {},
   "source": [
    "2nd Order"
   ]
  },
  {
   "cell_type": "code",
   "execution_count": null,
   "metadata": {
    "pycharm": {
     "is_executing": true
    }
   },
   "outputs": [],
   "source": [
    "N = 1000000\n",
    "n = 6\n",
    "confidence = 0.95\n",
    "eps = 1e-1\n",
    "\n",
    "alpha=1-confidence\n",
    "Z=stats.norm.ppf(1-alpha/2)\n",
    "\n",
    "exact_value = Heston_Put(T,K,r,a,k,rho,sigma,x1,x2)\n",
    "relative_tolerance = eps/exact_value\n",
    "\n",
    "x0=np.array((np.array([x1]*N),\n",
    "            np.array([x2]*N),\n",
    "            [0]*N,\n",
    "            [0]*N))\n",
    "\n",
    "param_dict={'rou':rho,'r':r,'sigma':sigma,'a':a,'k':k,'n':n,'x0':x0,'N':N}\n",
    "result=esperance_Heston(1,param_dict[\"r\"],K=K)(Algo_2nd_Heston)([copy.deepcopy(param_dict)])\n",
    "mean= np.mean(result)\n",
    "var = np.var(result)\n",
    "del result\n",
    "\n",
    "interval_l = mean-np.sqrt(var/N)*Z\n",
    "interval_r = mean+np.sqrt(var/N)*Z\n",
    "\n",
    "appro_error = 1-mean/exact_value\n",
    "simul_error = np.sqrt(var/N)*Z/exact_value\n",
    "relative_error_l = abs(1-interval_l/exact_value)\n",
    "relative_error_r = abs(1-interval_r/exact_value)\n",
    "max_relative_error = max(relative_error_l,relative_error_r)\n",
    "print(\"The exact value of expectation is : {}\".format(exact_value))\n",
    "print(\"The absolute error tolerance is {}, the relative risk tolerance is {}\".format(eps,relative_tolerance))\n",
    "print(\"The mean value of simulations is {}\".format(mean))\n",
    "print(\"The {}% confidence interval of mean2 is [{},{}]\".format(confidence,interval_l,interval_r))\n",
    "print(\"The maximal relative error of mean with {}% confidence is {}({}+-{})\".format(confidence,max_relative_error,appro_error,simul_error))\n",
    "print(\"maximal relative error of mean <= relative tolerance error? {}\".format(max_relative_error<=relative_tolerance))"
   ]
  },
  {
   "cell_type": "code",
   "execution_count": null,
   "metadata": {
    "pycharm": {
     "is_executing": true
    }
   },
   "outputs": [],
   "source": [
    "N = 10000000\n",
    "n = 24\n",
    "confidence = 0.95\n",
    "eps = 1e-2\n",
    "\n",
    "alpha=1-confidence\n",
    "Z=stats.norm.ppf(1-alpha/2)\n",
    "\n",
    "exact_value = Heston_Put(T,K,r,a,k,rho,sigma,x1,x2)\n",
    "relative_tolerance = eps/exact_value\n",
    "\n",
    "x0=np.array((np.array([x1]*N),\n",
    "            np.array([x2]*N),\n",
    "            [0]*N,\n",
    "            [0]*N))\n",
    "\n",
    "param_dict={'rou':rho,'r':r,'sigma':sigma,'a':a,'k':k,'n':n,'x0':x0,'N':N}\n",
    "result=esperance_Heston(1,param_dict[\"r\"],K=K)(Algo_2nd_Heston)([copy.deepcopy(param_dict)])\n",
    "mean= np.mean(result)\n",
    "var = np.var(result)\n",
    "del result\n",
    "\n",
    "interval_l = mean-np.sqrt(var/N)*Z\n",
    "interval_r = mean+np.sqrt(var/N)*Z\n",
    "\n",
    "appro_error = 1-mean/exact_value\n",
    "simul_error = np.sqrt(var/N)*Z/exact_value\n",
    "relative_error_l = abs(1-interval_l/exact_value)\n",
    "relative_error_r = abs(1-interval_r/exact_value)\n",
    "max_relative_error = max(relative_error_l,relative_error_r)\n",
    "print(\"The exact value of expectation is : {}\".format(exact_value))\n",
    "print(\"The absolute error tolerance is {}, the relative risk tolerance is {}\".format(eps,relative_tolerance))\n",
    "print(\"The mean value of simulations is {}\".format(mean))\n",
    "print(\"The {}% confidence interval of mean2 is [{},{}]\".format(confidence,interval_l,interval_r))\n",
    "print(\"The maximal relative error of mean with {}% confidence is {}({}+-{})\".format(confidence,max_relative_error,appro_error,simul_error))\n",
    "print(\"maximal relative error of mean <= relative tolerance error? {}\".format(max_relative_error<=relative_tolerance))"
   ]
  },
  {
   "cell_type": "markdown",
   "metadata": {},
   "source": [
    "3rd"
   ]
  },
  {
   "cell_type": "code",
   "execution_count": null,
   "metadata": {
    "pycharm": {
     "is_executing": true
    }
   },
   "outputs": [],
   "source": [
    "N = 1000000\n",
    "n = 4\n",
    "confidence = 0.95\n",
    "eps = 1e-1\n",
    "\n",
    "alpha=1-confidence\n",
    "Z=stats.norm.ppf(1-alpha/2)\n",
    "\n",
    "exact_value = Heston_Put(T,K,r,a,k,rho,sigma,x1,x2)\n",
    "relative_tolerance = eps/exact_value\n",
    "\n",
    "x0=np.array((np.array([x1]*N),\n",
    "            np.array([x2]*N),\n",
    "            [0]*N,\n",
    "            [0]*N))\n",
    "\n",
    "param_dict={'rou':rho,'r':r,'sigma':sigma,'a':a,'k':k,'n':n,'x0':x0,'N':N}\n",
    "result=esperance_Heston(1,param_dict[\"r\"],K=K)(Algo_3rd_Heston)([copy.deepcopy(param_dict)])\n",
    "mean= np.mean(result)\n",
    "var = np.var(result)\n",
    "del result\n",
    "\n",
    "interval_l = mean-np.sqrt(var/N)*Z\n",
    "interval_r = mean+np.sqrt(var/N)*Z\n",
    "\n",
    "appro_error = 1-mean/exact_value\n",
    "simul_error = np.sqrt(var/N)*Z/exact_value\n",
    "relative_error_l = abs(1-interval_l/exact_value)\n",
    "relative_error_r = abs(1-interval_r/exact_value)\n",
    "max_relative_error = max(relative_error_l,relative_error_r)\n",
    "print(\"The exact value of expectation is : {}\".format(exact_value))\n",
    "print(\"The absolute error tolerance is {}, the relative risk tolerance is {}\".format(eps,relative_tolerance))\n",
    "print(\"The mean value of simulations is {}\".format(mean))\n",
    "print(\"The {}% confidence interval of mean2 is [{},{}]\".format(confidence,interval_l,interval_r))\n",
    "print(\"The maximal relative error of mean with {}% confidence is {}({}+-{})\".format(confidence,max_relative_error,appro_error,simul_error))\n",
    "print(\"maximal relative error of mean <= relative tolerance error? {}\".format(max_relative_error<=relative_tolerance))"
   ]
  },
  {
   "cell_type": "code",
   "execution_count": null,
   "metadata": {
    "pycharm": {
     "is_executing": true
    }
   },
   "outputs": [],
   "source": [
    "N = 10000000\n",
    "n = 18\n",
    "confidence = 0.95\n",
    "eps = 1e-2\n",
    "\n",
    "alpha=1-confidence\n",
    "Z=stats.norm.ppf(1-alpha/2)\n",
    "\n",
    "exact_value = Heston_Put(T,K,r,a,k,rho,sigma,x1,x2)\n",
    "relative_tolerance = eps/exact_value\n",
    "\n",
    "x0=np.array((np.array([x1]*N),\n",
    "            np.array([x2]*N),\n",
    "            [0]*N,\n",
    "            [0]*N))\n",
    "\n",
    "param_dict={'rou':rho,'r':r,'sigma':sigma,'a':a,'k':k,'n':n,'x0':x0,'N':N}\n",
    "result=esperance_Heston(1,param_dict[\"r\"],K=K)(Algo_3rd_Heston)([copy.deepcopy(param_dict)])\n",
    "mean= np.mean(result)\n",
    "var = np.var(result)\n",
    "del result\n",
    "\n",
    "interval_l = mean-np.sqrt(var/N)*Z\n",
    "interval_r = mean+np.sqrt(var/N)*Z\n",
    "\n",
    "appro_error = 1-mean/exact_value\n",
    "simul_error = np.sqrt(var/N)*Z/exact_value\n",
    "relative_error_l = abs(1-interval_l/exact_value)\n",
    "relative_error_r = abs(1-interval_r/exact_value)\n",
    "max_relative_error = max(relative_error_l,relative_error_r)\n",
    "print(\"The exact value of expectation is : {}\".format(exact_value))\n",
    "print(\"The absolute error tolerance is {}, the relative risk tolerance is {}\".format(eps,relative_tolerance))\n",
    "print(\"The mean value of simulations is {}\".format(mean))\n",
    "print(\"The {}% confidence interval of mean2 is [{},{}]\".format(confidence,interval_l,interval_r))\n",
    "print(\"The maximal relative error of mean with {}% confidence is {}({}+-{})\".format(confidence,max_relative_error,appro_error,simul_error))\n",
    "print(\"maximal relative error of mean <= relative tolerance error? {}\".format(max_relative_error<=relative_tolerance))"
   ]
  },
  {
   "cell_type": "code",
   "execution_count": null,
   "outputs": [],
   "source": [],
   "metadata": {
    "collapsed": false
   }
  }
 ],
 "metadata": {
  "kernelspec": {
   "display_name": "Python 3.8.5 ('base')",
   "language": "python",
   "name": "python3"
  },
  "language_info": {
   "codemirror_mode": {
    "name": "ipython",
    "version": 3
   },
   "file_extension": ".py",
   "mimetype": "text/x-python",
   "name": "python",
   "nbconvert_exporter": "python",
   "pygments_lexer": "ipython3",
   "version": "3.8.5"
  },
  "orig_nbformat": 4,
  "vscode": {
   "interpreter": {
    "hash": "49cb93f377a7abe7414b7b0f21fb3017538004a126cf690fb524202736b7fb92"
   }
  }
 },
 "nbformat": 4,
 "nbformat_minor": 2
}
