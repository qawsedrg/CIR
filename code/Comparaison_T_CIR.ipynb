{
 "cells": [
  {
   "cell_type": "code",
   "execution_count": 1,
   "metadata": {},
   "outputs": [],
   "source": [
    "import matplotlib.pyplot as plt\n",
    "from matplotlib.pyplot import MultipleLocator\n",
    "import scipy.stats as stats\n",
    "from IPython.display import display\n",
    "import pandas as pd\n",
    "from utils import *\n",
    "import gc"
   ]
  },
  {
   "cell_type": "code",
   "execution_count": 2,
   "metadata": {},
   "outputs": [],
   "source": [
    "@timer_func\n",
    "@multi_thread_wrapper\n",
    "@multi_input_wrapper\n",
    "@compute_CIR\n",
    "def Algo_2nd_CIR(sigma,a,k,n,x0,N):\n",
    "    return CIR_2nd(sigma,a,k,n,x0,N)\n",
    "\n",
    "@timer_func\n",
    "@multi_thread_wrapper\n",
    "@multi_input_wrapper\n",
    "@compute_CIR\n",
    "def Algo_3rd_CIR(sigma,a,k,n,x0,N):\n",
    "    return CIR_3rd(sigma,a,k,n,x0,N)\n",
    "\n",
    "@timer_func\n",
    "@multi_thread_wrapper\n",
    "@multi_input_wrapper\n",
    "@compute_CIR\n",
    "def Exact_(sigma,a,k,n,x0):\n",
    "    return Exact(sigma,a,k,n,x0)\n",
    "\n",
    "@timer_func\n",
    "@multi_thread_wrapper\n",
    "@multi_input_wrapper\n",
    "@compute_CIR\n",
    "def Euler(sigma,a,k,n,x0,N,method):\n",
    "    return{\n",
    "            \"Euler_DD\":Euler_DD,\n",
    "            \"Euler_HM\":Euler_HM,\n",
    "            \"Euler_L\": Euler_L,\n",
    "            \"Euler_B\":Euler_B}[method](sigma,a,k,n,x0,N)"
   ]
  },
  {
   "cell_type": "code",
   "execution_count": 3,
   "metadata": {},
   "outputs": [],
   "source": [
    "def error(a,k,x0,sigma,N,t,n,confidence,method,submethod = None):\n",
    "    alpha=1-confidence\n",
    "    Z=stats.norm.ppf(1-alpha/2)\n",
    "\n",
    "    exact_value = exact_expectation(x0,a,sigma,k,t)\n",
    "    \n",
    "    if method == Exact_:\n",
    "        param_dict={'x0':np.array([x0]*N),'k':k,'a':a,'sigma':sigma,'n':n}\n",
    "    elif method == Euler:\n",
    "        param_dict={'x0':np.array([x0]*N),'k':k,'a':a,'sigma':sigma,'n':n,'N':N,'method':submethod}\n",
    "    elif method == Algo_2nd_CIR or method == Algo_3rd_CIR:\n",
    "        param_dict={'x0':np.array([x0]*N),'k':k,'a':a,'sigma':sigma,'n':n,'N':N}\n",
    "    else:\n",
    "        print(\"No such method!\")\n",
    "        return None\n",
    "    \n",
    "\n",
    "    result=esperance_CIR(1)(method)([param_dict])\n",
    "    mean= np.mean(result)\n",
    "    var = np.var(result)\n",
    "    del result\n",
    "\n",
    "    interval_l = mean-Z*np.sqrt(var/N)\n",
    "    interval_r = mean+Z*np.sqrt(var/N)\n",
    "\n",
    "    appro_error = 1-mean/exact_value\n",
    "    simul_error = np.sqrt(var/N)*Z/exact_value\n",
    "    relative_error_l = abs(1-interval_l/exact_value)\n",
    "    relative_error_r = abs(1-interval_r/exact_value)\n",
    "    max_relative_error = max(relative_error_l,relative_error_r)\n",
    "    print(\"The exact value of expectation is : {}\".format(exact_value))\n",
    "    print(\"The mean value of simulations is {}\".format(mean))\n",
    "    print(\"The {}% confidence interval of mean2 is [{},{}]\".format(confidence,interval_l,interval_r))\n",
    "    print(\"The maximal relative error of mean with {}% confidence is {}({}+-{})\".format(confidence,max_relative_error,appro_error,simul_error))"
   ]
  },
  {
   "cell_type": "markdown",
   "metadata": {},
   "source": [
    "# Modele CIR"
   ]
  },
  {
   "cell_type": "code",
   "execution_count": 4,
   "metadata": {},
   "outputs": [],
   "source": [
    "a = 0.04\n",
    "k = 0.1\n",
    "x0 = 0.3\n",
    "sigma = 2\n",
    "t = 1"
   ]
  },
  {
   "cell_type": "markdown",
   "metadata": {},
   "source": [
    "## Exact Simulation"
   ]
  },
  {
   "cell_type": "code",
   "execution_count": 5,
   "metadata": {},
   "outputs": [
    {
     "name": "stdout",
     "output_type": "stream",
     "text": [
      "Function 'Exact_' executed in 0.1790s\n",
      "The exact value of expectation is : 0.8915304718347317\n",
      "The absolute error tolerance is 0.001, the relative risk tolerance is 0.0011216666525621303\n",
      "The mean value of simulations is 0.8915840208479568\n",
      "The 0.95% confidence interval of mean2 is [0.8910628177026508,0.8921052239932629]\n",
      "The maximal relative error of mean with 0.95% confidence is 0.0006446803297126547(-6.006414241221947e-05+-0.0005846161873002501)\n",
      "maximal relative error of mean <= relative tolerance error? True\n"
     ]
    }
   ],
   "source": [
    "N = 1000000\n",
    "n = 1\n",
    "confidence = 0.95\n",
    "eps = 1e-3\n",
    "\n",
    "alpha=1-confidence\n",
    "Z=stats.norm.ppf(1-alpha/2)\n",
    "\n",
    "exact_value = exact_expectation(x0,a,sigma,k,t)\n",
    "relative_tolerance = eps/exact_value\n",
    "\n",
    "param_dict={'x0':np.array([x0]*N),'k':k,'a':a,'sigma':sigma,'n':n}\n",
    "result=esperance_CIR(1)(Exact_)([param_dict])\n",
    "mean= np.mean(result)\n",
    "var = np.var(result)\n",
    "del result\n",
    "\n",
    "interval_l = mean-np.sqrt(var/N)*Z\n",
    "interval_r = mean+np.sqrt(var/N)*Z\n",
    "\n",
    "appro_error = 1-mean/exact_value\n",
    "simul_error = np.sqrt(var/N)*Z/exact_value\n",
    "relative_error_l = abs(1-interval_l/exact_value)\n",
    "relative_error_r = abs(1-interval_r/exact_value)\n",
    "max_relative_error = max(relative_error_l,relative_error_r)\n",
    "print(\"The exact value of expectation is : {}\".format(exact_value))\n",
    "print(\"The absolute error tolerance is {}, the relative risk tolerance is {}\".format(eps,relative_tolerance))\n",
    "print(\"The mean value of simulations is {}\".format(mean))\n",
    "print(\"The {}% confidence interval of mean2 is [{},{}]\".format(confidence,interval_l,interval_r))\n",
    "print(\"The maximal relative error of mean with {}% confidence is {}({}+-{})\".format(confidence,max_relative_error,appro_error,simul_error))\n",
    "print(\"maximal relative error of mean <= relative tolerance error? {}\".format(max_relative_error<=relative_tolerance))"
   ]
  },
  {
   "cell_type": "code",
   "execution_count": 6,
   "metadata": {},
   "outputs": [
    {
     "name": "stdout",
     "output_type": "stream",
     "text": [
      "Function 'Exact_' executed in 18.6066s\n",
      "The exact value of expectation is : 0.8915304718347317\n",
      "The absolute error tolerance is 0.0001, the relative risk tolerance is 0.00011216666525621303\n",
      "The mean value of simulations is 0.8915175796818454\n",
      "The 0.95% confidence interval of mean2 is [0.8914654378392288,0.891569721524462]\n",
      "The maximal relative error of mean with 0.95% confidence is 7.294646403843696e-05(1.4460697972284997e-05+-5.8485766066177595e-05)\n",
      "maximal relative error of mean <= relative tolerance error? True\n"
     ]
    }
   ],
   "source": [
    "N = 100000000\n",
    "n = 1\n",
    "confidence = 0.95\n",
    "eps = 1e-4\n",
    "\n",
    "alpha=1-confidence\n",
    "Z=stats.norm.ppf(1-alpha/2)\n",
    "\n",
    "exact_value = exact_expectation(x0,a,sigma,k,t)\n",
    "relative_tolerance = eps/exact_value\n",
    "\n",
    "param_dict={'x0':np.array([x0]*N),'k':k,'a':a,'sigma':sigma,'n':n}\n",
    "result=esperance_CIR(1)(Exact_)([param_dict])\n",
    "mean= np.mean(result)\n",
    "var = np.var(result)\n",
    "del result\n",
    "\n",
    "interval_l = mean-np.sqrt(var/N)*Z\n",
    "interval_r = mean+np.sqrt(var/N)*Z\n",
    "\n",
    "appro_error = 1-mean/exact_value\n",
    "simul_error = np.sqrt(var/N)*Z/exact_value\n",
    "relative_error_l = abs(1-interval_l/exact_value)\n",
    "relative_error_r = abs(1-interval_r/exact_value)\n",
    "max_relative_error = max(relative_error_l,relative_error_r)\n",
    "print(\"The exact value of expectation is : {}\".format(exact_value))\n",
    "print(\"The absolute error tolerance is {}, the relative risk tolerance is {}\".format(eps,relative_tolerance))\n",
    "print(\"The mean value of simulations is {}\".format(mean))\n",
    "print(\"The {}% confidence interval of mean2 is [{},{}]\".format(confidence,interval_l,interval_r))\n",
    "print(\"The maximal relative error of mean with {}% confidence is {}({}+-{})\".format(confidence,max_relative_error,appro_error,simul_error))\n",
    "print(\"maximal relative error of mean <= relative tolerance error? {}\".format(max_relative_error<=relative_tolerance))"
   ]
  },
  {
   "cell_type": "markdown",
   "metadata": {},
   "source": [
    "# Euler"
   ]
  },
  {
   "cell_type": "code",
   "execution_count": 7,
   "metadata": {},
   "outputs": [
    {
     "name": "stdout",
     "output_type": "stream",
     "text": [
      "Function 'Euler' executed in 96.1557s\n",
      "The exact value of expectation is : 0.8915304718347317\n",
      "The absolute error tolerance is 0.001, the relative risk tolerance is 0.0011216666525621303\n",
      "The mean value of simulations is 0.8920416248842282\n",
      "The 0.95% confidence interval of mean2 is [0.8915190770377504,0.8925641727307061]\n",
      "The maximal relative error of mean with 0.95% confidence is 0.0011594678237381029(-0.0005733433299757174+-0.0005861244937623732)\n",
      "maximal relative error of mean <= relative tolerance error? False\n"
     ]
    }
   ],
   "source": [
    "N = 1000000\n",
    "n = 1000\n",
    "confidence = 0.95\n",
    "eps = 1e-3\n",
    "\n",
    "alpha=1-confidence\n",
    "Z=stats.norm.ppf(1-alpha/2)\n",
    "\n",
    "exact_value = exact_expectation(x0,a,sigma,k,t)\n",
    "relative_tolerance = eps/exact_value\n",
    "\n",
    "param_dict={'x0':np.array([x0]*N),'k':k,'a':a,'sigma':sigma,'n':n,'N':N,'method':\"Euler_DD\"}\n",
    "result=esperance_CIR(1)(Euler)([param_dict])\n",
    "mean= np.mean(result)\n",
    "var = np.var(result)\n",
    "del result\n",
    "\n",
    "interval_l = mean-np.sqrt(var/N)*Z\n",
    "interval_r = mean+np.sqrt(var/N)*Z\n",
    "\n",
    "appro_error = 1-mean/exact_value\n",
    "simul_error = np.sqrt(var/N)*Z/exact_value\n",
    "relative_error_l = abs(1-interval_l/exact_value)\n",
    "relative_error_r = abs(1-interval_r/exact_value)\n",
    "max_relative_error = max(relative_error_l,relative_error_r)\n",
    "print(\"The exact value of expectation is : {}\".format(exact_value))\n",
    "print(\"The absolute error tolerance is {}, the relative risk tolerance is {}\".format(eps,relative_tolerance))\n",
    "print(\"The mean value of simulations is {}\".format(mean))\n",
    "print(\"The {}% confidence interval of mean2 is [{},{}]\".format(confidence,interval_l,interval_r))\n",
    "print(\"The maximal relative error of mean with {}% confidence is {}({}+-{})\".format(confidence,max_relative_error,appro_error,simul_error))\n",
    "print(\"maximal relative error of mean <= relative tolerance error? {}\".format(max_relative_error<=relative_tolerance))"
   ]
  },
  {
   "cell_type": "code",
   "execution_count": 8,
   "metadata": {},
   "outputs": [
    {
     "name": "stdout",
     "output_type": "stream",
     "text": [
      "Function 'Euler' executed in 12.1997s\n",
      "The exact value of expectation is : 0.8915304718347317\n",
      "The absolute error tolerance is 0.0001, the relative risk tolerance is 0.00011216666525621303\n",
      "The mean value of simulations is 0.8983287723293057\n",
      "The 0.95% confidence interval of mean2 is [0.8977931007950899,0.8988644438635216]\n",
      "The maximal relative error of mean with 0.95% confidence is 0.008226271855517053\n",
      "maximal relative error of mean <= relative tolerance error? False\n"
     ]
    }
   ],
   "source": [
    "N = 1000000\n",
    "n = 100\n",
    "confidence = 0.95\n",
    "eps = 1e-4\n",
    "\n",
    "alpha=1-confidence\n",
    "Z=stats.norm.ppf(1-alpha/2)\n",
    "\n",
    "exact_value = exact_expectation(x0,a,sigma,k,t)\n",
    "relative_tolerance = eps/exact_value\n",
    "\n",
    "param_dict={'x0':np.array([x0]*N),'k':k,'a':a,'sigma':sigma,'n':n,'N':N,'method':\"Euler_DD\"}\n",
    "result=esperance_CIR(1)(Euler)([param_dict])\n",
    "mean= np.mean(result)\n",
    "var = np.var(result)\n",
    "del result\n",
    "\n",
    "interval_l = mean-np.sqrt(var/N)*Z\n",
    "interval_r = mean+np.sqrt(var/N)*Z\n",
    "\n",
    "relative_error_l = abs(1-interval_l/exact_value)\n",
    "relative_error_r = abs(1-interval_r/exact_value)\n",
    "max_relative_error = max(relative_error_l,relative_error_r)\n",
    "print(\"The exact value of expectation is : {}\".format(exact_value))\n",
    "print(\"The absolute error tolerance is {}, the relative risk tolerance is {}\".format(eps,relative_tolerance))\n",
    "print(\"The mean value of simulations is {}\".format(mean))\n",
    "print(\"The {}% confidence interval of mean2 is [{},{}]\".format(confidence,interval_l,interval_r))\n",
    "print(\"The maximal relative error of mean with {}% confidence is {}\".format(confidence,max_relative_error))\n",
    "print(\"maximal relative error of mean <= relative tolerance error? {}\".format(max_relative_error<=relative_tolerance))"
   ]
  },
  {
   "cell_type": "markdown",
   "metadata": {},
   "source": [
    "# 2nd"
   ]
  },
  {
   "cell_type": "code",
   "execution_count": 9,
   "metadata": {},
   "outputs": [
    {
     "name": "stdout",
     "output_type": "stream",
     "text": [
      "Function 'Algo_2nd_CIR' executed in 5.9127s\n",
      "The exact value of expectation is : 0.8915304718347317\n",
      "The absolute error tolerance is 0.001, the relative risk tolerance is 0.0011216666525621303\n",
      "The mean value of simulations is 0.8911409735415591\n",
      "The 0.95% confidence interval of mean2 is [0.8906217370163374,0.8916602100667808]\n",
      "The maximal relative error of mean with 0.95% confidence is 0.0010192975418149564\n",
      "maximal relative error of mean <= relative tolerance error? True\n"
     ]
    }
   ],
   "source": [
    "N = 1000000\n",
    "n = 16\n",
    "confidence = 0.95\n",
    "eps = 1e-3\n",
    "\n",
    "alpha=1-confidence\n",
    "Z=stats.norm.ppf(1-alpha/2)\n",
    "\n",
    "exact_value = exact_expectation(x0,a,sigma,k,t)\n",
    "relative_tolerance = eps/exact_value\n",
    "\n",
    "param_dict={'x0':np.array([x0]*N),'k':k,'a':a,'sigma':sigma,'n':n,'N':N}\n",
    "result=esperance_CIR(1)(Algo_2nd_CIR)([param_dict])\n",
    "mean= np.mean(result)\n",
    "var = np.var(result)\n",
    "del result\n",
    "\n",
    "interval_l = mean-np.sqrt(var/N)*Z\n",
    "interval_r = mean+np.sqrt(var/N)*Z\n",
    "\n",
    "relative_error_l = abs(1-interval_l/exact_value)\n",
    "relative_error_r = abs(1-interval_r/exact_value)\n",
    "max_relative_error = max(relative_error_l,relative_error_r)\n",
    "print(\"The exact value of expectation is : {}\".format(exact_value))\n",
    "print(\"The absolute error tolerance is {}, the relative risk tolerance is {}\".format(eps,relative_tolerance))\n",
    "print(\"The mean value of simulations is {}\".format(mean))\n",
    "print(\"The {}% confidence interval of mean2 is [{},{}]\".format(confidence,interval_l,interval_r))\n",
    "print(\"The maximal relative error of mean with {}% confidence is {}\".format(confidence,max_relative_error))\n",
    "print(\"maximal relative error of mean <= relative tolerance error? {}\".format(max_relative_error<=relative_tolerance))"
   ]
  },
  {
   "cell_type": "code",
   "execution_count": null,
   "metadata": {
    "pycharm": {
     "is_executing": true
    }
   },
   "outputs": [],
   "source": [
    "N = 100000000\n",
    "n = 33\n",
    "confidence = 0.95\n",
    "eps = 1e-4\n",
    "\n",
    "alpha=1-confidence\n",
    "Z=stats.norm.ppf(1-alpha/2)\n",
    "\n",
    "exact_value = exact_expectation(x0,a,sigma,k,t)\n",
    "relative_tolerance = eps/exact_value\n",
    "\n",
    "param_dict={'x0':np.array([x0]*N),'k':k,'a':a,'sigma':sigma,'n':n,'N':N}\n",
    "result=esperance_CIR(1)(Algo_2nd_CIR)([param_dict])\n",
    "mean= np.mean(result)\n",
    "var = np.var(result)\n",
    "del result\n",
    "\n",
    "interval_l = mean-np.sqrt(var/N)*Z\n",
    "interval_r = mean+np.sqrt(var/N)*Z\n",
    "\n",
    "relative_error_l = abs(1-interval_l/exact_value)\n",
    "relative_error_r = abs(1-interval_r/exact_value)\n",
    "max_relative_error = max(relative_error_l,relative_error_r)\n",
    "print(\"The exact value of expectation is : {}\".format(exact_value))\n",
    "print(\"The absolute error tolerance is {}, the relative risk tolerance is {}\".format(eps,relative_tolerance))\n",
    "print(\"The mean value of simulations is {}\".format(mean))\n",
    "print(\"The {}% confidence interval of mean2 is [{},{}]\".format(confidence,interval_l,interval_r))\n",
    "print(\"The maximal relative error of mean with {}% confidence is {}\".format(confidence,max_relative_error))\n",
    "print(\"maximal relative error of mean <= relative tolerance error? {}\".format(max_relative_error<=relative_tolerance))"
   ]
  },
  {
   "cell_type": "markdown",
   "metadata": {},
   "source": [
    "# 3rd"
   ]
  },
  {
   "cell_type": "code",
   "execution_count": null,
   "metadata": {
    "pycharm": {
     "is_executing": true
    }
   },
   "outputs": [],
   "source": [
    "N = 1000000\n",
    "n = 16\n",
    "confidence = 0.95\n",
    "eps = 1e-3\n",
    "\n",
    "alpha=1-confidence\n",
    "Z=stats.norm.ppf(1-alpha/2)\n",
    "\n",
    "exact_value = exact_expectation(x0,a,sigma,k,t)\n",
    "relative_tolerance = eps/exact_value\n",
    "\n",
    "param_dict={'x0':np.array([x0]*N),'k':k,'a':a,'sigma':sigma,'n':n,'N':N}\n",
    "result=esperance_CIR(1)(Algo_3rd_CIR)([param_dict])\n",
    "mean= np.mean(result)\n",
    "var = np.var(result)\n",
    "del result\n",
    "\n",
    "interval_l = mean-np.sqrt(var/N)*Z\n",
    "interval_r = mean+np.sqrt(var/N)*Z\n",
    "\n",
    "appro_error = 1-mean/exact_value\n",
    "simul_error = np.sqrt(var/N)*Z/exact_value\n",
    "relative_error_l = abs(1-interval_l/exact_value)\n",
    "relative_error_r = abs(1-interval_r/exact_value)\n",
    "max_relative_error = max(relative_error_l,relative_error_r)\n",
    "print(\"The exact value of expectation is : {}\".format(exact_value))\n",
    "print(\"The absolute error tolerance is {}, the relative risk tolerance is {}\".format(eps,relative_tolerance))\n",
    "print(\"The mean value of simulations is {}\".format(mean))\n",
    "print(\"The {}% confidence interval of mean2 is [{},{}]\".format(confidence,interval_l,interval_r))\n",
    "print(\"The maximal relative error of mean with {}% confidence is {}({}+-{})\".format(confidence,max_relative_error,appro_error,simul_error))\n",
    "print(\"maximal relative error of mean <= relative tolerance error? {}\".format(max_relative_error<=relative_tolerance))"
   ]
  },
  {
   "cell_type": "code",
   "execution_count": null,
   "metadata": {
    "pycharm": {
     "is_executing": true
    }
   },
   "outputs": [],
   "source": [
    "N = 100000000\n",
    "n = 30\n",
    "confidence = 0.95\n",
    "eps = 1e-4\n",
    "\n",
    "alpha=1-confidence\n",
    "Z=stats.norm.ppf(1-alpha/2)\n",
    "\n",
    "exact_value = exact_expectation(x0,a,sigma,k,t)\n",
    "relative_tolerance = eps/exact_value\n",
    "\n",
    "param_dict={'x0':np.array([x0]*N),'k':k,'a':a,'sigma':sigma,'n':n,'N':N}\n",
    "result=esperance_CIR(1)(Algo_3rd_CIR)([param_dict])\n",
    "mean= np.mean(result)\n",
    "var = np.var(result)\n",
    "del result\n",
    "\n",
    "interval_l = mean-np.sqrt(var/N)*Z\n",
    "interval_r = mean+np.sqrt(var/N)*Z\n",
    "\n",
    "appro_error = 1-mean/exact_value\n",
    "simul_error = np.sqrt(var/N)*Z/exact_value\n",
    "relative_error_l = abs(1-interval_l/exact_value)\n",
    "relative_error_r = abs(1-interval_r/exact_value)\n",
    "max_relative_error = max(relative_error_l,relative_error_r)\n",
    "print(\"The exact value of expectation is : {}\".format(exact_value))\n",
    "print(\"The absolute error tolerance is {}, the relative risk tolerance is {}\".format(eps,relative_tolerance))\n",
    "print(\"The mean value of simulations is {}\".format(mean))\n",
    "print(\"The {}% confidence interval of mean2 is [{},{}]\".format(confidence,interval_l,interval_r))\n",
    "print(\"The maximal relative error of mean with {}% confidence is {}({}+-{})\".format(confidence,max_relative_error,appro_error,simul_error))\n",
    "print(\"maximal relative error of mean <= relative tolerance error? {}\".format(max_relative_error<=relative_tolerance))"
   ]
  },
  {
   "cell_type": "code",
   "execution_count": null,
   "outputs": [],
   "source": [],
   "metadata": {
    "collapsed": false
   }
  }
 ],
 "metadata": {
  "kernelspec": {
   "display_name": "Python 3.8.5 ('base')",
   "language": "python",
   "name": "python3"
  },
  "language_info": {
   "codemirror_mode": {
    "name": "ipython",
    "version": 3
   },
   "file_extension": ".py",
   "mimetype": "text/x-python",
   "name": "python",
   "nbconvert_exporter": "python",
   "pygments_lexer": "ipython3",
   "version": "3.8.5"
  },
  "orig_nbformat": 4,
  "vscode": {
   "interpreter": {
    "hash": "49cb93f377a7abe7414b7b0f21fb3017538004a126cf690fb524202736b7fb92"
   }
  }
 },
 "nbformat": 4,
 "nbformat_minor": 2
}
